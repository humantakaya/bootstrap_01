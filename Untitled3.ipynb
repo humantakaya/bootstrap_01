{
 "cells": [
  {
   "cell_type": "code",
   "execution_count": 5,
   "metadata": {},
   "outputs": [],
   "source": [
    "# 以下のサイトを解釈\n",
    "# https://www.r-bloggers.com/confidence-intervals-for-prediction-in-glmms/"
   ]
  },
  {
   "cell_type": "code",
   "execution_count": 12,
   "metadata": {},
   "outputs": [],
   "source": [
    "library(Matrix)\n",
    "library(lme4)\n",
    " \n",
    "#first case simple lmer, simulate 100 data points from 10 groups with one continuous fixed effect variable\n",
    "\n",
    "#[0,10]の一様乱数を100個生成\n",
    "x<-runif(100,0,10)\n",
    "\n",
    "#10levelのファクターを10個ずつ生成\n",
    "f<-gl(n = 10,k = 10)\n",
    "\n",
    "#あらかじめ前処理としてmodel.matrix（どの列が説明変数で、どの列が応答変数なのかの情報をmatrixに含ませたもの）を生成\n",
    "data<-data.frame(x=x,f=f)\n",
    "modmat<-model.matrix(~x,data)\n",
    "\n",
    "#the fixed effect coefficient 固定効果係数\n",
    "fixed<-c(1,0.5)\n",
    "#the random effect ランダム効果10個\n",
    "rnd<-rnorm(10,0,0.7)\n",
    "#the simulated response values 応答変数100個\n",
    "data$y<-rnorm(100,modmat%*%fixed+rnd[f],0.3)"
   ]
  },
  {
   "cell_type": "code",
   "execution_count": 31,
   "metadata": {},
   "outputs": [],
   "source": [
    "#方針はこちらに記載\n",
    "\n",
    "#http://bbolker.github.io/mixedmodels-misc/glmmFAQ.html\n",
    "\n",
    "#The general recipe for computing predictions from a linear or generalized linear model is to\n",
    "\n",
    "#figure out the model matrix X corresponding to the new data;\n",
    "#matrix-multiply X by the parameter vector β to get the predictions (or linear predictor in the case of GLM(M)s);\n",
    "#extract the variance-covariance matrix of the parameters V\n",
    "#compute XVX′ to get the variance-covariance matrix of the predictions;\n",
    "#extract the diagonal of this matrix to get variances of predictions;\n",
    "#if computing prediction rather than confidence intervals, add the residual variance;\n",
    "#take the square-root of the variances to get the standard deviations (errors) of the predictions;\n",
    "#compute confidence intervals based on a Normal approximation;\n",
    "#for GL(M)Ms, run the confidence interval boundaries (not the standard errors) through the inverse-link function."
   ]
  },
  {
   "cell_type": "code",
   "execution_count": 13,
   "metadata": {},
   "outputs": [],
   "source": [
    "#model\n",
    "m<-lmer(y~x+(1|f),data)\n",
    " \n",
    "#first CI and PI using predict-like method, using code posted here: http://glmm.wikidot.com/faq\n",
    "newdat<-data.frame(x=seq(0,10,length=20))\n",
    "mm<-model.matrix(~x,newdat)\n",
    "\n",
    "newdat$y<-mm%*%fixef(m)    #fixef()はmの固定効果係数\n",
    "#predict(m,newdat,re.form=NA) would give the same results  #re.form=NAでランダム効果を含まず予測する\n",
    "pvar1 <- diag(mm %*% tcrossprod(vcov(m),mm))  #tcrossprod:転置した積を求める vov(m):2*2の分散共分散行列\n",
    "tvar1 <- pvar1+VarCorr(m)$f[1] # must be adapted for more complex models\n",
    "newdat <- data.frame(\n",
    "  newdat\n",
    "  , plo = newdat$y-1.96*sqrt(pvar1)\n",
    "  , phi = newdat$y+1.96*sqrt(pvar1)\n",
    "  , tlo = newdat$y-1.96*sqrt(tvar1)\n",
    "  , thi = newdat$y+1.96*sqrt(tvar1)\n",
    ")"
   ]
  },
  {
   "cell_type": "code",
   "execution_count": 21,
   "metadata": {},
   "outputs": [
    {
     "data": {
      "text/plain": [
       "2 x 2 Matrix of class \"dpoMatrix\"\n",
       "              (Intercept)             x\n",
       "(Intercept)  0.0334335712 -0.0005968561\n",
       "x           -0.0005968561  0.0001073726"
      ]
     },
     "metadata": {},
     "output_type": "display_data"
    }
   ],
   "source": [
    "x=seq(0,10,length=20)\n",
    "vcov(m)"
   ]
  },
  {
   "cell_type": "code",
   "execution_count": 20,
   "metadata": {},
   "outputs": [
    {
     "data": {
      "text/plain": [
       "2 x 20 Matrix of class \"dgeMatrix\"\n",
       "                        1             2             3             4\n",
       "(Intercept)  0.0334335712  0.0331194365  0.0328053017  0.0324911669\n",
       "x           -0.0005968561 -0.0005403442 -0.0004838323 -0.0004273204\n",
       "                        5             6             7             8\n",
       "(Intercept)  0.0321770321  0.0318628974  0.0315487626  0.0312346278\n",
       "x           -0.0003708085 -0.0003142966 -0.0002577847 -0.0002012728\n",
       "                       9            10            11           12           13\n",
       "(Intercept)  0.030920493  3.060636e-02  3.029222e-02 0.0299780887 2.966395e-02\n",
       "x           -0.000144761 -8.824907e-05 -3.173718e-05 0.0000247747 8.128659e-05\n",
       "                      14           15           16           17          18\n",
       "(Intercept) 0.0293498192 0.0290356844 0.0287215496 0.0284074149 0.028093280\n",
       "x           0.0001377985 0.0001943104 0.0002508223 0.0003073341 0.000363846\n",
       "                      19           20\n",
       "(Intercept) 0.0277791453 0.0274650106\n",
       "x           0.0004203579 0.0004768698"
      ]
     },
     "metadata": {},
     "output_type": "display_data"
    }
   ],
   "source": [
    "tcrossprod(vcov(m),mm)"
   ]
  },
  {
   "cell_type": "code",
   "execution_count": 22,
   "metadata": {},
   "outputs": [
    {
     "data": {
      "text/html": [
       "<table>\n",
       "<caption>A matrix: 20 × 2 of type dbl</caption>\n",
       "<thead>\n",
       "\t<tr><th scope=col>(Intercept)</th><th scope=col>x</th></tr>\n",
       "</thead>\n",
       "<tbody>\n",
       "\t<tr><td>1</td><td> 0.0000000</td></tr>\n",
       "\t<tr><td>1</td><td> 0.5263158</td></tr>\n",
       "\t<tr><td>1</td><td> 1.0526316</td></tr>\n",
       "\t<tr><td>1</td><td> 1.5789474</td></tr>\n",
       "\t<tr><td>1</td><td> 2.1052632</td></tr>\n",
       "\t<tr><td>1</td><td> 2.6315789</td></tr>\n",
       "\t<tr><td>1</td><td> 3.1578947</td></tr>\n",
       "\t<tr><td>1</td><td> 3.6842105</td></tr>\n",
       "\t<tr><td>1</td><td> 4.2105263</td></tr>\n",
       "\t<tr><td>1</td><td> 4.7368421</td></tr>\n",
       "\t<tr><td>1</td><td> 5.2631579</td></tr>\n",
       "\t<tr><td>1</td><td> 5.7894737</td></tr>\n",
       "\t<tr><td>1</td><td> 6.3157895</td></tr>\n",
       "\t<tr><td>1</td><td> 6.8421053</td></tr>\n",
       "\t<tr><td>1</td><td> 7.3684211</td></tr>\n",
       "\t<tr><td>1</td><td> 7.8947368</td></tr>\n",
       "\t<tr><td>1</td><td> 8.4210526</td></tr>\n",
       "\t<tr><td>1</td><td> 8.9473684</td></tr>\n",
       "\t<tr><td>1</td><td> 9.4736842</td></tr>\n",
       "\t<tr><td>1</td><td>10.0000000</td></tr>\n",
       "</tbody>\n",
       "</table>\n"
      ],
      "text/latex": [
       "A matrix: 20 × 2 of type dbl\n",
       "\\begin{tabular}{r|ll}\n",
       " (Intercept) & x\\\\\n",
       "\\hline\n",
       "\t 1 &  0.0000000\\\\\n",
       "\t 1 &  0.5263158\\\\\n",
       "\t 1 &  1.0526316\\\\\n",
       "\t 1 &  1.5789474\\\\\n",
       "\t 1 &  2.1052632\\\\\n",
       "\t 1 &  2.6315789\\\\\n",
       "\t 1 &  3.1578947\\\\\n",
       "\t 1 &  3.6842105\\\\\n",
       "\t 1 &  4.2105263\\\\\n",
       "\t 1 &  4.7368421\\\\\n",
       "\t 1 &  5.2631579\\\\\n",
       "\t 1 &  5.7894737\\\\\n",
       "\t 1 &  6.3157895\\\\\n",
       "\t 1 &  6.8421053\\\\\n",
       "\t 1 &  7.3684211\\\\\n",
       "\t 1 &  7.8947368\\\\\n",
       "\t 1 &  8.4210526\\\\\n",
       "\t 1 &  8.9473684\\\\\n",
       "\t 1 &  9.4736842\\\\\n",
       "\t 1 & 10.0000000\\\\\n",
       "\\end{tabular}\n"
      ],
      "text/markdown": [
       "\n",
       "A matrix: 20 × 2 of type dbl\n",
       "\n",
       "| (Intercept) | x |\n",
       "|---|---|\n",
       "| 1 |  0.0000000 |\n",
       "| 1 |  0.5263158 |\n",
       "| 1 |  1.0526316 |\n",
       "| 1 |  1.5789474 |\n",
       "| 1 |  2.1052632 |\n",
       "| 1 |  2.6315789 |\n",
       "| 1 |  3.1578947 |\n",
       "| 1 |  3.6842105 |\n",
       "| 1 |  4.2105263 |\n",
       "| 1 |  4.7368421 |\n",
       "| 1 |  5.2631579 |\n",
       "| 1 |  5.7894737 |\n",
       "| 1 |  6.3157895 |\n",
       "| 1 |  6.8421053 |\n",
       "| 1 |  7.3684211 |\n",
       "| 1 |  7.8947368 |\n",
       "| 1 |  8.4210526 |\n",
       "| 1 |  8.9473684 |\n",
       "| 1 |  9.4736842 |\n",
       "| 1 | 10.0000000 |\n",
       "\n"
      ],
      "text/plain": [
       "   (Intercept) x         \n",
       "1  1            0.0000000\n",
       "2  1            0.5263158\n",
       "3  1            1.0526316\n",
       "4  1            1.5789474\n",
       "5  1            2.1052632\n",
       "6  1            2.6315789\n",
       "7  1            3.1578947\n",
       "8  1            3.6842105\n",
       "9  1            4.2105263\n",
       "10 1            4.7368421\n",
       "11 1            5.2631579\n",
       "12 1            5.7894737\n",
       "13 1            6.3157895\n",
       "14 1            6.8421053\n",
       "15 1            7.3684211\n",
       "16 1            7.8947368\n",
       "17 1            8.4210526\n",
       "18 1            8.9473684\n",
       "19 1            9.4736842\n",
       "20 1           10.0000000"
      ]
     },
     "metadata": {},
     "output_type": "display_data"
    }
   ],
   "source": [
    "mm"
   ]
  },
  {
   "cell_type": "code",
   "execution_count": 23,
   "metadata": {},
   "outputs": [
    {
     "data": {
      "text/plain": [
       " Groups   Name        Std.Dev.\n",
       " f        (Intercept) 0.54131 \n",
       " Residual             0.28531 "
      ]
     },
     "metadata": {},
     "output_type": "display_data"
    }
   ],
   "source": [
    "VarCorr(m)"
   ]
  },
  {
   "cell_type": "code",
   "execution_count": 24,
   "metadata": {},
   "outputs": [
    {
     "data": {
      "text/plain": [
       "Linear mixed model fit by REML ['lmerMod']\n",
       "Formula: y ~ x + (1 | f)\n",
       "   Data: data\n",
       "REML criterion at convergence: 76.0256\n",
       "Random effects:\n",
       " Groups   Name        Std.Dev.\n",
       " f        (Intercept) 0.5413  \n",
       " Residual             0.2853  \n",
       "Number of obs: 100, groups:  f, 10\n",
       "Fixed Effects:\n",
       "(Intercept)            x  \n",
       "     0.7454       0.5052  "
      ]
     },
     "metadata": {},
     "output_type": "display_data"
    }
   ],
   "source": [
    "m"
   ]
  },
  {
   "cell_type": "code",
   "execution_count": 30,
   "metadata": {},
   "outputs": [
    {
     "data": {
      "text/plain": [
       "Linear mixed model fit by REML ['lmerMod']\n",
       "Formula: y ~ x + (1 | f)\n",
       "   Data: data\n",
       "REML criterion at convergence: 76.0256\n",
       "Random effects:\n",
       " Groups   Name        Std.Dev.\n",
       " f        (Intercept) 0.5413  \n",
       " Residual             0.2853  \n",
       "Number of obs: 100, groups:  f, 10\n",
       "Fixed Effects:\n",
       "(Intercept)            x  \n",
       "     0.7454       0.5052  "
      ]
     },
     "metadata": {},
     "output_type": "display_data"
    }
   ],
   "source": [
    "m"
   ]
  },
  {
   "cell_type": "code",
   "execution_count": null,
   "metadata": {},
   "outputs": [],
   "source": []
  },
  {
   "cell_type": "code",
   "execution_count": null,
   "metadata": {},
   "outputs": [],
   "source": []
  }
 ],
 "metadata": {
  "kernelspec": {
   "display_name": "R",
   "language": "R",
   "name": "ir"
  },
  "language_info": {
   "codemirror_mode": "r",
   "file_extension": ".r",
   "mimetype": "text/x-r-source",
   "name": "R",
   "pygments_lexer": "r",
   "version": "3.5.2"
  }
 },
 "nbformat": 4,
 "nbformat_minor": 4
}
