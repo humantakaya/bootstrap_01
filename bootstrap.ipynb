{
 "cells": [
  {
   "cell_type": "code",
   "execution_count": 5,
   "metadata": {},
   "outputs": [],
   "source": [
    "# 以下のサイトを解釈\n",
    "# https://www.r-bloggers.com/confidence-intervals-for-prediction-in-glmms/"
   ]
  },
  {
   "cell_type": "code",
   "execution_count": 61,
   "metadata": {},
   "outputs": [],
   "source": [
    "library(Matrix)\n",
    "library(lme4)\n",
    " \n",
    "#first case simple lmer, simulate 100 data points from 10 groups with one continuous fixed effect variable\n",
    "\n",
    "#[0,10]の一様乱数を100個生成\n",
    "x<-runif(100,0,10)\n",
    "\n",
    "#10levelのファクターを10個ずつ生成\n",
    "f<-gl(n = 10,k = 10)\n",
    "\n",
    "#あらかじめ前処理としてmodel.matrix（どの列が説明変数で、どの列が応答変数なのかの情報をmatrixに含ませたもの）を生成\n",
    "data<-data.frame(x=x,f=f)\n",
    "modmat<-model.matrix(~x,data)\n",
    "\n",
    "#the fixed effect coefficient 固定効果係数\n",
    "fixed<-c(1,0.5)\n",
    "#the random effect ランダム効果10個\n",
    "rnd<-rnorm(10,0,0.7)\n",
    "#the simulated response values 応答変数100個\n",
    "data$y<-rnorm(100,modmat%*%fixed+rnd[f],0.3)"
   ]
  },
  {
   "cell_type": "code",
   "execution_count": 31,
   "metadata": {},
   "outputs": [],
   "source": [
    "#方針はこちらに記載\n",
    "\n",
    "#http://bbolker.github.io/mixedmodels-misc/glmmFAQ.html\n",
    "\n",
    "#The general recipe for computing predictions from a linear or generalized linear model is to\n",
    "\n",
    "#figure out the model matrix X corresponding to the new data;\n",
    "#matrix-multiply X by the parameter vector β to get the predictions (or linear predictor in the case of GLM(M)s);\n",
    "#extract the variance-covariance matrix of the parameters V\n",
    "#compute XVX′ to get the variance-covariance matrix of the predictions;\n",
    "#extract the diagonal of this matrix to get variances of predictions;\n",
    "#if computing prediction rather than confidence intervals, add the residual variance;\n",
    "#take the square-root of the variances to get the standard deviations (errors) of the predictions;\n",
    "#compute confidence intervals based on a Normal approximation;\n",
    "#for GL(M)Ms, run the confidence interval boundaries (not the standard errors) through the inverse-link function."
   ]
  },
  {
   "cell_type": "code",
   "execution_count": 62,
   "metadata": {},
   "outputs": [],
   "source": [
    "#model\n",
    "m<-lmer(y~x+(1|f),data)\n",
    " \n",
    "#first CI and PI using predict-like method, using code posted here: http://glmm.wikidot.com/faq\n",
    "newdat<-data.frame(x=seq(0,10,length=20))\n",
    "mm<-model.matrix(~x,newdat)\n",
    "\n",
    "newdat$y<-mm%*%fixef(m)    #fixef()はmの固定効果係数\n",
    "#predict(m,newdat,re.form=NA) would give the same results  #re.form=NAでランダム効果を含まず予測する\n",
    "pvar1 <- diag(mm %*% tcrossprod(vcov(m),mm))  #tcrossprod:転置した積を求める vov(m):2*2の分散共分散行列\n",
    "tvar1 <- pvar1+VarCorr(m)$f[1] # must be adapted for more complex models  #VarCorr(m):ランダム効果の分散共分散 ⇒$fで分散を取り出して[1]で定数にしてる VarCorr()だと表示は標準偏差\n",
    "newdat <- data.frame(\n",
    "  newdat\n",
    "  , plo = newdat$y-1.96*sqrt(pvar1)\n",
    "  , phi = newdat$y+1.96*sqrt(pvar1)\n",
    "  , tlo = newdat$y-1.96*sqrt(tvar1)\n",
    "  , thi = newdat$y+1.96*sqrt(tvar1)\n",
    ")"
   ]
  },
  {
   "cell_type": "code",
   "execution_count": 84,
   "metadata": {},
   "outputs": [
    {
     "data": {
      "image/png": "[encoded data removed]",
      "text/plain": [
       "plot without title"
      ]
     },
     "metadata": {
      "image/png": {
       "height": 420,
       "width": 420
      },
      "text/plain": {
       "height": 420,
       "width": 420
      }
     },
     "output_type": "display_data"
    }
   ],
   "source": [
    "#second version with bootMer\n",
    "#we have to define a function that will be applied to the nsim simulations\n",
    "#here we basically get a merMod object and return the fitted values\n",
    "predFun<-function(.) mm%*%fixef(.) \n",
    "bb<-bootMer(m,FUN=predFun,nsim=200) #do this 200 times  #bb$tは200*20の行列\n",
    "#as we did this 200 times the 95% CI will be bordered by the 5th and 195th value\n",
    "bb_se<-apply(bb$t,2,function(x) x[order(x)]) #200*20の行列  #applyの自作関数版で縦に適用\n",
    "newdat$blo<-bb_se[5,]\n",
    "newdat$bhi<-bb_se[195,]\n",
    "\n",
    "plot(y~x,data)\n",
    "lines(newdat$x,newdat$y,col=\"red\",lty=2,lwd=3)\n",
    "lines(newdat$x,newdat$plo,col=\"blue\",lty=2,lwd=2)\n",
    "lines(newdat$x,newdat$phi,col=\"blue\",lty=2,lwd=2)\n",
    "lines(newdat$x,newdat$tlo,col=\"orange\",lty=2,lwd=2)\n",
    "lines(newdat$x,newdat$thi,col=\"orange\",lty=2,lwd=2)\n",
    "lines(newdat$x,newdat$bhi,col=\"darkgreen\",lty=2,lwd=2)\n",
    "lines(newdat$x,newdat$blo,col=\"darkgreen\",lty=2,lwd=2)\n",
    "legend(\"topleft\",legend=c(\"Fitted line\",\"Confidence interval\",\"Prediction interval\",\"Bootstrapped CI\"),col=c(\"red\",\"blue\",\"orange\",\"darkgreen\"),lty=2,lwd=2,bty=\"n\")"
   ]
  },
  {
   "cell_type": "code",
   "execution_count": 86,
   "metadata": {},
   "outputs": [
    {
     "data": {
      "image/png": "[encoded data removed]",
      "text/plain": [
       "plot without title"
      ]
     },
     "metadata": {
      "image/png": {
       "height": 420,
       "width": 420
      },
      "text/plain": {
       "height": 420,
       "width": 420
      }
     },
     "output_type": "display_data"
    }
   ],
   "source": [
    "#second case more complex design with two crossed RE and a poisson response\n",
    "x<-runif(100,0,10)\n",
    "f1<-gl(n = 10,k = 10)\n",
    "f2<-as.factor(rep(1:10,10))\n",
    "data<-data.frame(x=x,f1=f1,f2=f2)\n",
    "modmat<-model.matrix(~x,data)\n",
    " \n",
    "fixed<-c(-0.12,0.35)\n",
    "rnd1<-rnorm(10,0,0.7)\n",
    "rnd2<-rnorm(10,0,0.2)\n",
    " \n",
    "mus<-modmat%*%fixed+rnd1[f1]+rnd2[f2]\n",
    "data$y<-rpois(100,exp(mus))\n",
    " \n",
    "m<-glmer(y~x+(1|f1)+(1|f2),data,family=\"poisson\")\n",
    " \n",
    "#for GLMMs we have to back-transform the prediction after adding/removing the SE\n",
    "newdat<-data.frame(x=seq(0,10,length=20))\n",
    "mm<-model.matrix(~x,newdat)\n",
    "y<-mm%*%fixef(m)\n",
    "pvar1 <- diag(mm %*% tcrossprod(vcov(m),mm))\n",
    "tvar1 <- pvar1+VarCorr(m)$f1[1]+VarCorr(m)$f2[1]  ## must be adapted for more complex models\n",
    "newdat <- data.frame(\n",
    "  x=newdat$x,\n",
    "  y=exp(y),\n",
    "   plo = exp(y-1.96*sqrt(pvar1))\n",
    "  , phi = exp(y+1.96*sqrt(pvar1))\n",
    "  , tlo = exp(y-1.96*sqrt(tvar1))\n",
    "  , thi = exp(y+1.96*sqrt(tvar1))\n",
    ")\n",
    " \n",
    "#second version with bootMer\n",
    "predFun<-function(.) exp(mm%*%fixef(.)) \n",
    "bb<-bootMer(m,FUN=predFun,nsim=200)\n",
    "bb_se<-apply(bb$t,2,function(x) x[order(x)])\n",
    "newdat$blo<-bb_se[5,]\n",
    "newdat$bhi<-bb_se[195,]\n",
    " \n",
    "#plot\n",
    "plot(y~x,data)\n",
    "lines(newdat$x,newdat$y,col=\"red\",lty=2,lwd=3)\n",
    "lines(newdat$x,newdat$plo,col=\"blue\",lty=2,lwd=2)\n",
    "lines(newdat$x,newdat$phi,col=\"blue\",lty=2,lwd=2)\n",
    "lines(newdat$x,newdat$tlo,col=\"orange\",lty=2,lwd=2)\n",
    "lines(newdat$x,newdat$thi,col=\"orange\",lty=2,lwd=2)\n",
    "lines(newdat$x,newdat$bhi,col=\"darkgreen\",lty=2,lwd=2)\n",
    "lines(newdat$x,newdat$blo,col=\"darkgreen\",lty=2,lwd=2)\n",
    "legend(\"topleft\",legend=c(\"Fitted line\",\"Confidence interval\",\"Prediction interval\",\"Bootstrapped CI\"),col=c(\"red\",\"blue\",\"orange\",\"darkgreen\"),lty=2,lwd=2,bty=\"n\")"
   ]
  },
  {
   "cell_type": "code",
   "execution_count": null,
   "metadata": {},
   "outputs": [],
   "source": []
  }
 ],
 "metadata": {
  "kernelspec": {
   "display_name": "R",
   "language": "R",
   "name": "ir"
  },
  "language_info": {
   "codemirror_mode": "r",
   "file_extension": ".r",
   "mimetype": "text/x-r-source",
   "name": "R",
   "pygments_lexer": "r",
   "version": "3.5.2"
  }
 },
 "nbformat": 4,
 "nbformat_minor": 4
}
